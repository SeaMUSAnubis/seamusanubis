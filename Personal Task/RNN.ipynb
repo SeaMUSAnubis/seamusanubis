{
  "nbformat": 4,
  "nbformat_minor": 0,
  "metadata": {
    "colab": {
      "provenance": [],
      "gpuType": "T4"
    },
    "kernelspec": {
      "name": "python3",
      "display_name": "Python 3"
    },
    "language_info": {
      "name": "python"
    },
    "accelerator": "GPU"
  },
  "cells": [
    {
      "cell_type": "code",
      "execution_count": null,
      "metadata": {
        "id": "wHPzMkDn8QoZ"
      },
      "outputs": [],
      "source": [
        "import tensorflow as tf\n",
        "import tensorflow.keras as keras"
      ]
    },
    {
      "cell_type": "markdown",
      "source": [
        "# Implement example hh"
      ],
      "metadata": {
        "id": "_phlgu3gTBGI"
      }
    },
    {
      "cell_type": "code",
      "source": [
        "input = tf.convert_to_tensor([[\n",
        "    [1.0, 3.0, 2.0, 1.0],\n",
        "    [0.0, 4.0, 1.0, 2.0]\n",
        "]])"
      ],
      "metadata": {
        "id": "GE_tmZyA8RaQ"
      },
      "execution_count": null,
      "outputs": []
    },
    {
      "cell_type": "code",
      "source": [
        "simple_rnn = tf.keras.layers.SimpleRNN(3,\n",
        "                                       return_sequences=True,\n",
        "                                       return_state=True)"
      ],
      "metadata": {
        "id": "e5STo8PD8aif"
      },
      "execution_count": null,
      "outputs": []
    },
    {
      "cell_type": "code",
      "source": [
        "simple_rnn(input)"
      ],
      "metadata": {
        "id": "SGNLDmkRPsF5",
        "colab": {
          "base_uri": "https://localhost:8080/"
        },
        "outputId": "7ec9b0ef-d4b0-499e-d71f-e7b52d5586d4"
      },
      "execution_count": null,
      "outputs": [
        {
          "output_type": "execute_result",
          "data": {
            "text/plain": [
              "[<tf.Tensor: shape=(1, 2, 3), dtype=float32, numpy=\n",
              " array([[[ 0.99662256, -0.99433047,  0.9122257 ],\n",
              "         [ 0.8788173 , -0.95501816,  0.64041   ]]], dtype=float32)>,\n",
              " <tf.Tensor: shape=(1, 3), dtype=float32, numpy=array([[ 0.8788173 , -0.95501816,  0.64041   ]], dtype=float32)>]"
            ]
          },
          "metadata": {},
          "execution_count": 13
        }
      ]
    },
    {
      "cell_type": "code",
      "source": [
        "print(\"Sequence Output: \\n\", sequence_output.numpy())\n",
        "print(\"Final State: \\n\", state.numpy())"
      ],
      "metadata": {
        "id": "EUpfGwetP2-f"
      },
      "execution_count": null,
      "outputs": []
    },
    {
      "cell_type": "markdown",
      "source": [
        "# Check Param"
      ],
      "metadata": {
        "id": "9ygDLz7UTIt1"
      }
    },
    {
      "cell_type": "code",
      "source": [
        "input = keras.Input(shape = (5,), dtype = 'int32')\n",
        "x = keras.layers.Embedding(100, 4)(input)\n",
        "\n",
        "# Add simpleRNN\n",
        "x = keras.layers.SimpleRNN(3)(x)\n",
        "\n",
        "# Add a classifer\n",
        "output = keras.layers.Dense(1, activation = 'sigmoid')(x)\n",
        "\n",
        "model = keras.Model(input, output)\n",
        "model.summary()\n"
      ],
      "metadata": {
        "colab": {
          "base_uri": "https://localhost:8080/"
        },
        "id": "QMIiaCAzTUIi",
        "outputId": "e7cb2aef-0193-4b75-8a3f-7ef61a719576"
      },
      "execution_count": null,
      "outputs": [
        {
          "output_type": "stream",
          "name": "stdout",
          "text": [
            "Model: \"model\"\n",
            "_________________________________________________________________\n",
            " Layer (type)                Output Shape              Param #   \n",
            "=================================================================\n",
            " input_4 (InputLayer)        [(None, 5)]               0         \n",
            "                                                                 \n",
            " embedding_2 (Embedding)     (None, 5, 4)              400       \n",
            "                                                                 \n",
            " simple_rnn_5 (SimpleRNN)    (None, 3)                 24        \n",
            "                                                                 \n",
            " dense (Dense)               (None, 1)                 4         \n",
            "                                                                 \n",
            "=================================================================\n",
            "Total params: 428 (1.67 KB)\n",
            "Trainable params: 428 (1.67 KB)\n",
            "Non-trainable params: 0 (0.00 Byte)\n",
            "_________________________________________________________________\n"
          ]
        }
      ]
    },
    {
      "cell_type": "code",
      "source": [
        "input = keras.Input(shape = (5,), dtype = 'int32')\n",
        "x = keras.layers.Embedding(100, 4)(input)\n",
        "\n",
        "# Add simpleRNN\n",
        "x = keras.layers.SimpleRNN(3, return_sequences= True)(x)\n",
        "x = keras.layers.SimpleRNN(3)(x)\n",
        "\n",
        "# Add a classifer\n",
        "output = keras.layers.Dense(1, activation = 'sigmoid')(x)\n",
        "\n",
        "model = keras.Model(input, output)\n",
        "model.summary()"
      ],
      "metadata": {
        "colab": {
          "base_uri": "https://localhost:8080/"
        },
        "id": "zdnW9SeMVnYU",
        "outputId": "b2d98b92-8a2e-4236-8c29-1933ed9eec6b"
      },
      "execution_count": null,
      "outputs": [
        {
          "output_type": "stream",
          "name": "stdout",
          "text": [
            "Model: \"model_1\"\n",
            "_________________________________________________________________\n",
            " Layer (type)                Output Shape              Param #   \n",
            "=================================================================\n",
            " input_5 (InputLayer)        [(None, 5)]               0         \n",
            "                                                                 \n",
            " embedding_3 (Embedding)     (None, 5, 4)              400       \n",
            "                                                                 \n",
            " simple_rnn_6 (SimpleRNN)    (None, 5, 3)              24        \n",
            "                                                                 \n",
            " simple_rnn_7 (SimpleRNN)    (None, 3)                 21        \n",
            "                                                                 \n",
            " dense_1 (Dense)             (None, 1)                 4         \n",
            "                                                                 \n",
            "=================================================================\n",
            "Total params: 449 (1.75 KB)\n",
            "Trainable params: 449 (1.75 KB)\n",
            "Non-trainable params: 0 (0.00 Byte)\n",
            "_________________________________________________________________\n"
          ]
        }
      ]
    },
    {
      "cell_type": "markdown",
      "source": [
        "# ..."
      ],
      "metadata": {
        "id": "3NUlzSPhT_Kq"
      }
    },
    {
      "cell_type": "code",
      "source": [
        "import numpy as np\n",
        "\n",
        "import tensorflow as tf\n",
        "from tensorflow import keras\n",
        "from tensorflow.keras import layers"
      ],
      "metadata": {
        "id": "frl7dYCFT_3o"
      },
      "execution_count": null,
      "outputs": []
    },
    {
      "cell_type": "code",
      "source": [
        "# 20k words xuất hiện nhiều nhất\n",
        "max_features = 20000\n",
        "embedding_data = 128\n",
        "maxlen = 500\n",
        "\n",
        "(x_train, y_train), (x_val, y_val) = keras.datasets.imdb.load_data(num_words=max_features)\n",
        "print(len(x_train), \"Training sequences\")\n",
        "print(len(x_val), \"Validation sequences\")\n",
        "\n",
        "x_train = keras.preprocessing.sequence.pad_sequences(x_train, maxlen=maxlen)\n",
        "x_val = keras.preprocessing.sequence.pad_sequences(x_val, maxlen=maxlen)"
      ],
      "metadata": {
        "colab": {
          "base_uri": "https://localhost:8080/"
        },
        "id": "DMqNkl-fYn65",
        "outputId": "e4ca3d78-bb4f-487b-e67d-1a9787766582"
      },
      "execution_count": null,
      "outputs": [
        {
          "output_type": "stream",
          "name": "stdout",
          "text": [
            "Downloading data from https://storage.googleapis.com/tensorflow/tf-keras-datasets/imdb.npz\n",
            "17464789/17464789 [==============================] - 1s 0us/step\n",
            "25000 Training sequences\n",
            "25000 Validation sequences\n"
          ]
        }
      ]
    },
    {
      "cell_type": "code",
      "source": [
        "inputs = keras.Input(shape=(maxlen,), dtype=\"int32\")\n",
        "\n",
        "# Embed each integer in a 128-dimenaional vector\n",
        "x = layers.Embedding(max_features, embedding_data)(inputs)\n",
        "\n",
        "# Add 2 simple RNN\n",
        "x = layers.SimpleRNN(64, return_sequences=True)(x)\n",
        "x = layers.SimpleRNN(64)(x)\n",
        "\n",
        "# Add a classifier\n",
        "outputs = layers.Dense(1, activation=\"sigmoid\")(x)\n",
        "model = keras.Model(inputs, outputs)\n",
        "model.summary()"
      ],
      "metadata": {
        "colab": {
          "base_uri": "https://localhost:8080/"
        },
        "id": "udqmb7D2ZBk1",
        "outputId": "790e01bc-415b-4302-fb0c-10cf1b274af2"
      },
      "execution_count": null,
      "outputs": [
        {
          "output_type": "stream",
          "name": "stdout",
          "text": [
            "Model: \"model\"\n",
            "_________________________________________________________________\n",
            " Layer (type)                Output Shape              Param #   \n",
            "=================================================================\n",
            " input_1 (InputLayer)        [(None, 500)]             0         \n",
            "                                                                 \n",
            " embedding (Embedding)       (None, 500, 128)          2560000   \n",
            "                                                                 \n",
            " simple_rnn (SimpleRNN)      (None, 500, 64)           12352     \n",
            "                                                                 \n",
            " simple_rnn_1 (SimpleRNN)    (None, 64)                8256      \n",
            "                                                                 \n",
            " dense (Dense)               (None, 1)                 65        \n",
            "                                                                 \n",
            "=================================================================\n",
            "Total params: 2580673 (9.84 MB)\n",
            "Trainable params: 2580673 (9.84 MB)\n",
            "Non-trainable params: 0 (0.00 Byte)\n",
            "_________________________________________________________________\n"
          ]
        }
      ]
    },
    {
      "cell_type": "code",
      "source": [
        "model.compile(optimizer=\"adam\",\n",
        "              loss=\"binary_crossentropy\", metrics=[\"acc\"])\n",
        "history = model.fit(x_train, y_train,\n",
        "                    batch_size = 512,\n",
        "                    epochs = 50, validation_data=(x_val, y_val))"
      ],
      "metadata": {
        "colab": {
          "base_uri": "https://localhost:8080/"
        },
        "id": "RvnLWXbTZm9C",
        "outputId": "ca080f9a-bfcb-4156-c11b-71137c6cd412"
      },
      "execution_count": null,
      "outputs": [
        {
          "output_type": "stream",
          "name": "stdout",
          "text": [
            "Epoch 1/50\n",
            "49/49 [==============================] - 56s 1s/step - loss: 0.6227 - acc: 0.6330 - val_loss: 0.4440 - val_acc: 0.7950\n",
            "Epoch 2/50\n",
            "49/49 [==============================] - 64s 1s/step - loss: 0.2987 - acc: 0.8758 - val_loss: 0.3177 - val_acc: 0.8698\n",
            "Epoch 3/50\n",
            "49/49 [==============================] - 60s 1s/step - loss: 0.1281 - acc: 0.9563 - val_loss: 0.3734 - val_acc: 0.8468\n",
            "Epoch 4/50\n",
            "49/49 [==============================] - 50s 1s/step - loss: 0.0347 - acc: 0.9923 - val_loss: 0.4547 - val_acc: 0.8568\n",
            "Epoch 5/50\n",
            "49/49 [==============================] - 53s 1s/step - loss: 0.0105 - acc: 0.9984 - val_loss: 0.5341 - val_acc: 0.8472\n",
            "Epoch 6/50\n",
            "49/49 [==============================] - 50s 1s/step - loss: 0.0028 - acc: 0.9998 - val_loss: 0.6029 - val_acc: 0.8593\n",
            "Epoch 7/50\n",
            "49/49 [==============================] - 50s 1s/step - loss: 8.9244e-04 - acc: 1.0000 - val_loss: 0.6334 - val_acc: 0.8548\n",
            "Epoch 8/50\n",
            "49/49 [==============================] - 49s 1s/step - loss: 5.5344e-04 - acc: 1.0000 - val_loss: 0.6717 - val_acc: 0.8589\n",
            "Epoch 9/50\n",
            "49/49 [==============================] - 49s 1s/step - loss: 4.1542e-04 - acc: 1.0000 - val_loss: 0.6989 - val_acc: 0.8596\n",
            "Epoch 10/50\n",
            "49/49 [==============================] - 49s 997ms/step - loss: 3.3430e-04 - acc: 1.0000 - val_loss: 0.7160 - val_acc: 0.8590\n",
            "Epoch 11/50\n",
            "49/49 [==============================] - 47s 958ms/step - loss: 2.7846e-04 - acc: 1.0000 - val_loss: 0.7324 - val_acc: 0.8589\n",
            "Epoch 12/50\n",
            "49/49 [==============================] - 50s 1s/step - loss: 2.3579e-04 - acc: 1.0000 - val_loss: 0.7519 - val_acc: 0.8596\n",
            "Epoch 13/50\n",
            "49/49 [==============================] - 50s 1s/step - loss: 2.0350e-04 - acc: 1.0000 - val_loss: 0.7659 - val_acc: 0.8594\n",
            "Epoch 14/50\n",
            "49/49 [==============================] - 51s 1s/step - loss: 1.7809e-04 - acc: 1.0000 - val_loss: 0.7794 - val_acc: 0.8594\n",
            "Epoch 15/50\n",
            "49/49 [==============================] - 49s 982ms/step - loss: 1.5756e-04 - acc: 1.0000 - val_loss: 0.7946 - val_acc: 0.8599\n",
            "Epoch 16/50\n",
            "49/49 [==============================] - 50s 1s/step - loss: 1.4066e-04 - acc: 1.0000 - val_loss: 0.8063 - val_acc: 0.8594\n",
            "Epoch 17/50\n",
            "49/49 [==============================] - 49s 997ms/step - loss: 1.2651e-04 - acc: 1.0000 - val_loss: 0.8174 - val_acc: 0.8597\n",
            "Epoch 18/50\n",
            "49/49 [==============================] - 48s 991ms/step - loss: 1.1442e-04 - acc: 1.0000 - val_loss: 0.8308 - val_acc: 0.8596\n",
            "Epoch 19/50\n",
            "49/49 [==============================] - 51s 1s/step - loss: 1.0419e-04 - acc: 1.0000 - val_loss: 0.8422 - val_acc: 0.8597\n",
            "Epoch 20/50\n",
            "49/49 [==============================] - 48s 984ms/step - loss: 9.5214e-05 - acc: 1.0000 - val_loss: 0.8500 - val_acc: 0.8595\n",
            "Epoch 21/50\n",
            "49/49 [==============================] - 47s 971ms/step - loss: 8.7421e-05 - acc: 1.0000 - val_loss: 0.8619 - val_acc: 0.8590\n",
            "Epoch 22/50\n",
            "49/49 [==============================] - 49s 994ms/step - loss: 8.0595e-05 - acc: 1.0000 - val_loss: 0.8711 - val_acc: 0.8590\n",
            "Epoch 23/50\n",
            "49/49 [==============================] - 46s 952ms/step - loss: 7.4588e-05 - acc: 1.0000 - val_loss: 0.8778 - val_acc: 0.8590\n",
            "Epoch 24/50\n",
            "49/49 [==============================] - 50s 1s/step - loss: 6.9194e-05 - acc: 1.0000 - val_loss: 0.8864 - val_acc: 0.8589\n",
            "Epoch 25/50\n",
            "49/49 [==============================] - 50s 1s/step - loss: 6.4356e-05 - acc: 1.0000 - val_loss: 0.8965 - val_acc: 0.8591\n",
            "Epoch 26/50\n",
            "49/49 [==============================] - 50s 1s/step - loss: 6.0031e-05 - acc: 1.0000 - val_loss: 0.9055 - val_acc: 0.8590\n",
            "Epoch 27/50\n",
            "49/49 [==============================] - 48s 978ms/step - loss: 5.6150e-05 - acc: 1.0000 - val_loss: 0.9117 - val_acc: 0.8592\n",
            "Epoch 28/50\n",
            "49/49 [==============================] - 47s 966ms/step - loss: 5.2602e-05 - acc: 1.0000 - val_loss: 0.9223 - val_acc: 0.8590\n",
            "Epoch 29/50\n",
            "49/49 [==============================] - 46s 942ms/step - loss: 4.9415e-05 - acc: 1.0000 - val_loss: 0.9277 - val_acc: 0.8589\n",
            "Epoch 30/50\n",
            "49/49 [==============================] - 49s 991ms/step - loss: 4.6474e-05 - acc: 1.0000 - val_loss: 0.9374 - val_acc: 0.8592\n",
            "Epoch 31/50\n",
            "49/49 [==============================] - 48s 978ms/step - loss: 4.3809e-05 - acc: 1.0000 - val_loss: 0.9426 - val_acc: 0.8588\n",
            "Epoch 32/50\n",
            "49/49 [==============================] - 50s 1s/step - loss: 4.1344e-05 - acc: 1.0000 - val_loss: 0.9517 - val_acc: 0.8592\n",
            "Epoch 33/50\n",
            "49/49 [==============================] - 52s 1s/step - loss: 3.9078e-05 - acc: 1.0000 - val_loss: 0.9558 - val_acc: 0.8587\n",
            "Epoch 34/50\n",
            "49/49 [==============================] - 51s 1s/step - loss: 3.7007e-05 - acc: 1.0000 - val_loss: 0.9646 - val_acc: 0.8591\n",
            "Epoch 35/50\n",
            "49/49 [==============================] - 50s 1s/step - loss: 3.5077e-05 - acc: 1.0000 - val_loss: 0.9702 - val_acc: 0.8586\n",
            "Epoch 36/50\n",
            "49/49 [==============================] - 49s 1s/step - loss: 3.3274e-05 - acc: 1.0000 - val_loss: 0.9779 - val_acc: 0.8588\n",
            "Epoch 37/50\n",
            "49/49 [==============================] - 50s 1s/step - loss: 3.1617e-05 - acc: 1.0000 - val_loss: 0.9837 - val_acc: 0.8586\n",
            "Epoch 38/50\n",
            "49/49 [==============================] - 49s 1s/step - loss: 3.0078e-05 - acc: 1.0000 - val_loss: 0.9888 - val_acc: 0.8585\n",
            "Epoch 39/50\n",
            "49/49 [==============================] - 49s 1s/step - loss: 2.8632e-05 - acc: 1.0000 - val_loss: 0.9961 - val_acc: 0.8586\n",
            "Epoch 40/50\n",
            "49/49 [==============================] - 47s 961ms/step - loss: 2.7284e-05 - acc: 1.0000 - val_loss: 1.0033 - val_acc: 0.8583\n",
            "Epoch 41/50\n",
            "49/49 [==============================] - 49s 1s/step - loss: 2.6038e-05 - acc: 1.0000 - val_loss: 1.0083 - val_acc: 0.8583\n",
            "Epoch 42/50\n",
            "49/49 [==============================] - 46s 943ms/step - loss: 2.4854e-05 - acc: 1.0000 - val_loss: 1.0144 - val_acc: 0.8586\n",
            "Epoch 43/50\n",
            "49/49 [==============================] - 47s 964ms/step - loss: 2.3746e-05 - acc: 1.0000 - val_loss: 1.0196 - val_acc: 0.8584\n",
            "Epoch 44/50\n",
            "49/49 [==============================] - 49s 1s/step - loss: 2.2705e-05 - acc: 1.0000 - val_loss: 1.0262 - val_acc: 0.8586\n",
            "Epoch 45/50\n",
            "49/49 [==============================] - 47s 962ms/step - loss: 2.1731e-05 - acc: 1.0000 - val_loss: 1.0314 - val_acc: 0.8584\n",
            "Epoch 46/50\n",
            "49/49 [==============================] - 48s 976ms/step - loss: 2.0808e-05 - acc: 1.0000 - val_loss: 1.0389 - val_acc: 0.8590\n",
            "Epoch 47/50\n",
            "49/49 [==============================] - 46s 942ms/step - loss: 1.9941e-05 - acc: 1.0000 - val_loss: 1.0430 - val_acc: 0.8589\n",
            "Epoch 48/50\n",
            "49/49 [==============================] - 48s 972ms/step - loss: 1.9122e-05 - acc: 1.0000 - val_loss: 1.0480 - val_acc: 0.8586\n",
            "Epoch 49/50\n",
            "49/49 [==============================] - 48s 976ms/step - loss: 1.8344e-05 - acc: 1.0000 - val_loss: 1.0535 - val_acc: 0.8590\n",
            "Epoch 50/50\n",
            "49/49 [==============================] - 47s 972ms/step - loss: 1.7612e-05 - acc: 1.0000 - val_loss: 1.0591 - val_acc: 0.8589\n"
          ]
        }
      ]
    },
    {
      "cell_type": "code",
      "source": [
        "from tensorflow.keras.preprocessing.text import Tokenizer"
      ],
      "metadata": {
        "id": "7EtkMwJJbuX4"
      },
      "execution_count": null,
      "outputs": []
    },
    {
      "cell_type": "code",
      "source": [
        "import matplotlib.pyplot as plt\n",
        "\n",
        "# Kích thước của hình vẽ\n",
        "plt.figure(figsize=(10, 10))\n",
        "\n",
        "# Lấy các giá trị lịch sử của accuracy và loss\n",
        "acc = history.history['acc']\n",
        "val_acc = history.history['val_acc']\n",
        "loss = history.history['loss']\n",
        "val_loss = history.history['val_loss']\n",
        "\n",
        "# Tạo hình vẽ cho accuracy và loss\n",
        "plt.figure(figsize=(8, 8))\n",
        "\n",
        "# Vẽ biểu đồ độ chính xác\n",
        "plt.subplot(2, 1, 1)\n",
        "plt.plot(acc, label='Training Accuracy')\n",
        "plt.plot(val_acc, label='Validation Accuracy')\n",
        "plt.legend(loc='lower right')\n",
        "plt.ylabel('Accuracy')\n",
        "plt.ylim([min(plt.ylim()), 1])\n",
        "plt.title('Training and Validation Accuracy')\n",
        "\n",
        "# Vẽ biểu đồ tổn thất\n",
        "plt.subplot(2, 1, 2)\n",
        "plt.plot(loss, label='Training Loss')\n",
        "plt.plot(val_loss, label='Validation Loss')\n",
        "plt.legend(loc='upper right')\n",
        "plt.ylabel('Loss')\n",
        "plt.ylim([0, max(plt.ylim())])\n",
        "plt.title('Training and Validation Loss')\n",
        "plt.xlabel('Epoch')\n",
        "\n",
        "# Hiển thị hình vẽ\n",
        "plt.show()\n"
      ],
      "metadata": {
        "colab": {
          "base_uri": "https://localhost:8080/",
          "height": 735
        },
        "id": "wJIaVEatcfH0",
        "outputId": "762b0fd9-450a-4a40-e33b-12ec286ddb54"
      },
      "execution_count": null,
      "outputs": [
        {
          "output_type": "display_data",
          "data": {
            "text/plain": [
              "<Figure size 1000x1000 with 0 Axes>"
            ]
          },
          "metadata": {}
        },
        {
          "output_type": "display_data",
          "data": {
            "text/plain": [
              "<Figure size 800x800 with 2 Axes>"
            ],
            "image/png": "[encoded data removed]"
          },
          "metadata": {}
        }
      ]
    }
  ]
}